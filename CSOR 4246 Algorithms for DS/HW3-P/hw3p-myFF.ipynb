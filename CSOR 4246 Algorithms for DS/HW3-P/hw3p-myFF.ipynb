{
 "cells": [
  {
   "cell_type": "markdown",
   "metadata": {},
   "source": [
    "# Max Flow Applications\n",
    "\n",
    "The purpose of this assignment is to investigate applications of finding a Max Flow. The problem asks you to design and implement an algorithm for shipping a material between nodes with different supply and demand requirements.\n",
    "\n",
    "* Please write code *only* in the bodies of the two functions, that is, following the TODO comments.\n",
    "* Be careful not to use varibles defined outside of the functions.\n",
    "* Breaking the two above rules may lead to 0 grades."
   ]
  },
  {
   "cell_type": "markdown",
   "metadata": {},
   "source": [
    "## Movie distribution\n",
    "\n",
    "First solve Problem 2 from hw3-t. \n",
    "\n",
    "Now suppose a movie distributor would like to ship a copy of a film from CA to every other state. There are therefore 48 units to ship out of CA, and each other state receives 1 unit. \n",
    "\n",
    "The dataset contiguous-usa.dat lists the adjacent states in the US. Each line lists two adjacent states; thus AK and HI are omitted, but DC is included in the data. The following code reads in the graph of US states."
   ]
  },
  {
   "cell_type": "code",
   "execution_count": 23,
   "metadata": {},
   "outputs": [],
   "source": [
    "import networkx as nx\n",
    "G = nx.Graph()\n",
    "\n",
    "usa = open('contiguous-usa.dat')\n",
    "for line in usa:\n",
    "    s1, s2 = line.strip().split()\n",
    "    G.add_edge(s1, s2)"
   ]
  },
  {
   "cell_type": "markdown",
   "metadata": {},
   "source": [
    "We now encode the demands into the graph."
   ]
  },
  {
   "cell_type": "code",
   "execution_count": 24,
   "metadata": {},
   "outputs": [],
   "source": [
    "for state in G.nodes():\n",
    "    if state != 'CA':\n",
    "        G.node[state]['demand'] = 1\n",
    "G.node['CA']['demand'] = -48"
   ]
  },
  {
   "cell_type": "markdown",
   "metadata": {},
   "source": [
    "We will assign a uniform capacity of 16 to each edge. Since CA has only three adjacent states, this is the smallest possible uniform capacity that allows one to ship all 48 units out of CA. As we have created an undirected graph, and flows have directions, we first convert the graph to a directed graph."
   ]
  },
  {
   "cell_type": "code",
   "execution_count": 25,
   "metadata": {},
   "outputs": [],
   "source": [
    "G = nx.DiGraph(G)\n",
    "uniform_capacity = 16\n",
    "for (s1, s2) in G.edges():\n",
    "    G.edge[s1][s2]['capacity'] = uniform_capacity"
   ]
  },
  {
   "cell_type": "markdown",
   "metadata": {},
   "source": [
    "Complete the following function to implement your algorithm to find a flow with demands. Your function should work correctly for any input, not just the movie instance considered here. As always, you are encouraged to define auxiliary functions as needed for clarity."
   ]
  },
  {
   "cell_type": "code",
   "execution_count": 26,
   "metadata": {},
   "outputs": [],
   "source": [
    "def flow_with_demands(graph):\n",
    "    \"\"\"Computes a flow with demands over the given graph.\n",
    "    \n",
    "    Args:\n",
    "        graph: A directed graph with nodes annotated with 'demand' properties and edges annotated with 'capacity' \n",
    "            properties.\n",
    "        \n",
    "    Returns:\n",
    "        A dict of dicts containing the flow on each edge. For instance, flow[s1][s2] should provide the flow along\n",
    "        edge (s1, s2).\n",
    "        \n",
    "    Raises:\n",
    "        NetworkXUnfeasible: An error is thrown if there is no flow satisfying the demands.\n",
    "    \"\"\"\n",
    "    # TODO: Implement the function.\n",
    "    \n",
    "    def draw_residual(G, f):\n",
    "        \"\"\"Computes the residual graph given graph and flow.\n",
    "\n",
    "        Args:\n",
    "            graph G: A directed graph with 'capacity' \n",
    "            f: the flow\n",
    "\n",
    "        Returns:\n",
    "            Gf: The corresponding residual graph\n",
    "\n",
    "        \"\"\"\n",
    "        Gf = nx.DiGraph()\n",
    "        Gf.add_nodes_from(nx.nodes(G))\n",
    "        for (s1, s2) in nx.edges(G):\n",
    "            if f[s1][s2] < G.edge[s1][s2]['capacity']:\n",
    "                Gf.add_edge(s1, s2, {'capacity': G.edge[s1][s2]['capacity'] - f[s1][s2]})\n",
    "            if f[s1][s2] > 0:\n",
    "                Gf.add_edge(s2, s1, {'capacity': f[s1][s2]})\n",
    "        return Gf\n",
    "    \n",
    "    \n",
    "    def bfs(G, s, t):\n",
    "        \"\"\"Find an s-t path in graph G\n",
    "\n",
    "        Args:\n",
    "            graph G: A directed graph with 'capacity' \n",
    "            s: the source\n",
    "            t: the sink\n",
    "\n",
    "        Returns:\n",
    "            path: a list of edges of s-t path, None if not exists\n",
    "            path_capacity: the bottleneck capacity of the s-t path, None if not exists\n",
    "            flag: True if there exists an s-t path, else False.\n",
    "\n",
    "        \"\"\"\n",
    "        queue = [(s, [s])]\n",
    "\n",
    "        while queue:\n",
    "            (vertex, path) = queue.pop(0)\n",
    "            for next_node in set(G.neighbors(vertex)) - set(path):\n",
    "                if next_node == t:\n",
    "                    long_path = path + [next_node]\n",
    "                    # try to compute output\n",
    "                    st_path = list()\n",
    "                    path_capacity = float('inf')\n",
    "                    for temp_i in range(len(long_path) - 1):\n",
    "                        st_path.append((long_path[temp_i], long_path[temp_i + 1]))\n",
    "                        path_capacity = min(path_capacity, G.edge[long_path[temp_i]][long_path[temp_i + 1]]['capacity'])\n",
    "                    return st_path, path_capacity, True\n",
    "\n",
    "                else:\n",
    "                    queue.append((next_node, path + [next_node]))\n",
    "\n",
    "        return None, None, False\n",
    "    \n",
    "    \n",
    "    def max_flow(G, s, t):\n",
    "        \"\"\"Computes the max flow over the given graph and source and sink.\n",
    "\n",
    "        Args:\n",
    "            graph: A directed graph with nodes annotated with 'demand' properties and edges annotated with 'capacity' \n",
    "                properties.\n",
    "            s: the source\n",
    "            t: the sink\n",
    "\n",
    "        Returns:\n",
    "            flow_value : integer, float\n",
    "            Value of the maximum flow.\n",
    "\n",
    "            flow_dict : dict\n",
    "            A dictionary containing the value of the flow that goes through each edge.\n",
    "\n",
    "        \"\"\"\n",
    "        # initialiing the flow\n",
    "        flow_dict_l = dict()\n",
    "        for (s1, s2) in nx.edges(G):\n",
    "            flow_dict_l.setdefault(s1, {})[s2] = 0\n",
    "        flow_dict_l[\"t'\"] = {}\n",
    "\n",
    "        # construct the residual graph Gf\n",
    "        Gf = draw_residual(G, flow_dict_l)\n",
    "\n",
    "        # define the path storing the s-t path\n",
    "        path, path_capacity, flag = bfs(Gf, s, t)\n",
    "        \n",
    "        if flag == False:\n",
    "            raise nx.NetworkXUnfeasible(\"There is no feasible flow satisfying the demands.\")\n",
    "            \n",
    "        while flag: # if there exists an s-t path in Gf\n",
    "            for (path_s, path_e) in path:\n",
    "                if (path_s, path_e) in nx.edges(G):\n",
    "                    flow_dict_l[path_s][path_e] += path_capacity\n",
    "                else:\n",
    "                    flow_dict_l[path_e][path_s] -= path_capacity\n",
    "            Gf = draw_residual(G, flow_dict_l)\n",
    "            path, path_capacity, flag = bfs(Gf, s, t)\n",
    "\n",
    "        # calculate the value of the flow\n",
    "        flow_value = 0\n",
    "        for source_out, capacity in flow_dict_l[s].iteritems():\n",
    "            flow_value += capacity\n",
    "\n",
    "        return flow_value, flow_dict_l\n",
    "\n",
    "    \n",
    "    # construct a new graph G1, and run FF algo to find the max flow in G1\n",
    "    G1 = nx.DiGraph()\n",
    "    G1.add_nodes_from(nx.nodes(G))\n",
    "    for (s1, s2) in nx.edges(G):\n",
    "        G1.add_edge(s1, s2, {'capacity': G.edge[s1][s2]['capacity']})\n",
    "    # add nodes s' and t'\n",
    "    G1.add_node(\"s'\")\n",
    "    G1.add_node(\"t'\")\n",
    "    sink_demand = 0\n",
    "    # add edges s'- x and y - t', x is a source and y is a sink\n",
    "    for state in nx.nodes(G):\n",
    "        if G.node[state]['demand'] < 0: # state is a source\n",
    "            G1.add_edge(\"s'\", state, {'capacity': -G.node[state]['demand']})\n",
    "        elif G.node[state]['demand'] > 0: # state is a sink\n",
    "            sink_demand += G.node[state]['demand']\n",
    "            G1.add_edge(state, \"t'\", {'capacity': G.node[state]['demand']})\n",
    "    # run FF algo in the new graph G1\n",
    "    flow_value, flow_dict = max_flow(G1, \"s'\", \"t'\")\n",
    "\n",
    "    # calculate the flow_dict in the original graph G\n",
    "    flow_dict.pop(\"s'\", 0)\n",
    "    flow_dict.pop(\"t'\", 0)\n",
    "    for origin_node, corr_flow in flow_dict.iteritems():\n",
    "        corr_flow.pop(\"t'\", 0)\n",
    "    \n",
    "    # raise error if there is no flow satisfying the demands\n",
    "    if flow_value == sink_demand:\n",
    "        return flow_dict\n",
    "    else:\n",
    "        raise nx.NetworkXUnfeasible(\"There is no feasible flow satisfying the demands.\")\n",
    "        \n",
    "        "
   ]
  },
  {
   "cell_type": "markdown",
   "metadata": {},
   "source": [
    "To verify that your solution is correct, implement a function that computes the total flow into each node (which will be negative for supply nodes)."
   ]
  },
  {
   "cell_type": "code",
   "execution_count": 27,
   "metadata": {},
   "outputs": [],
   "source": [
    "def divergence(flow):\n",
    "    \"\"\"Computes the total flow into each node according to the given flow dict.\n",
    "    \n",
    "    Args:\n",
    "        flow: the flow dict recording flow between nodes.\n",
    "        \n",
    "    Returns:\n",
    "        A dict of the net flow into each node.\n",
    "    \"\"\"\n",
    "    # TODO: Implement the function.\n",
    "    net_flow = dict.fromkeys(nx.nodes(G), 0) # initialize the dict\n",
    "    for each_start, multi_flow in flow.iteritems():\n",
    "        for each_end, each_flow in multi_flow.iteritems():\n",
    "            net_flow[each_start] -= each_flow\n",
    "            net_flow[each_end] += each_flow\n",
    "    return net_flow"
   ]
  },
  {
   "cell_type": "markdown",
   "metadata": {},
   "source": [
    "The following code performs a sanity check on your function (but does not completely confirm correctness)."
   ]
  },
  {
   "cell_type": "code",
   "execution_count": 28,
   "metadata": {},
   "outputs": [
    {
     "name": "stdout",
     "output_type": "stream",
     "text": [
      "Flow satisfies all demands: True\n"
     ]
    }
   ],
   "source": [
    "flow = flow_with_demands(G)\n",
    "div = divergence(flow)\n",
    "print \"Flow satisfies all demands:\", all(div[n] == G.node[n]['demand'] for n in G.nodes())"
   ]
  }
 ],
 "metadata": {
  "kernelspec": {
   "display_name": "Python 2",
   "language": "python",
   "name": "python2"
  },
  "language_info": {
   "codemirror_mode": {
    "name": "ipython",
    "version": 2
   },
   "file_extension": ".py",
   "mimetype": "text/x-python",
   "name": "python",
   "nbconvert_exporter": "python",
   "pygments_lexer": "ipython2",
   "version": "2.7.15"
  }
 },
 "nbformat": 4,
 "nbformat_minor": 1
}
