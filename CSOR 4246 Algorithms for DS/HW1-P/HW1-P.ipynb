{
 "cells": [
  {
   "cell_type": "markdown",
   "metadata": {},
   "source": [
    "# Connected Components\n",
    "\n",
    "The purpose of this assignment is to familiarize yourself with the handling of graph data structures. You will implement depth-first search for identifying the connected components of an undirected graph, implementing procedure Search as a subroutine along the way.\n",
    "\n",
    "You will use the [NetworkX](https://networkx.github.io/) Python package to represent and manipulate graphs. You should first familiarize yourself with its functionality by going through the brief [tutorial](http://networkx.github.io/documentation/networkx-1.9.1/tutorial/index.html). For this homework, you may only use the basic undirected graph methods listed [here](http://networkx.github.io/documentation/networkx-1.9.1/reference/classes.graph.html).\n",
    "\n",
    "As a use case, we will work with a dataset recording the interactions between characters in Homer's *Iliad*."
   ]
  },
  {
   "cell_type": "code",
   "execution_count": 14,
   "metadata": {},
   "outputs": [],
   "source": [
    "import networkx\n",
    "import urllib2\n",
    "homer = urllib2.urlopen('http://people.sc.fsu.edu/~jburkardt/datasets/sgb/homer.dat')"
   ]
  },
  {
   "cell_type": "markdown",
   "metadata": {},
   "source": [
    "The format of the data is straightforward. After some comment lines (beginning with \\*), the file lists a codename for each character (i.e., node of the graph), followed by a description. The file then lists the groups of characters that interact in each chapter, from which you will form the edges. For instance, the first line has the form:\n",
    "\n",
    "```1:CH,AG,ME,GS;AP,CH;HE,AC;AC,AG,CA;HE,AT;AT,AC;AT,OG;NE,AG,AC;CS,OD```\n",
    "\n",
    "This means that CH,AG,ME,GS interacted, so there are edges for all pairs of these nodes. Groups of characters that interacted are separated by semicolons. The lines start with chapter information of the form `1:` or `&:`, which can be ignored for this problem."
   ]
  },
  {
   "cell_type": "markdown",
   "metadata": {},
   "source": [
    "First implement a function to read in the nodes from the input file. You may implement any auxiliary functions as needed, and are encouraged to use small functions with specific purposes to keep your code readable. Any function you implement should be clearly commented."
   ]
  },
  {
   "cell_type": "markdown",
   "metadata": {},
   "source": [
    "Next implement a function to read in the edges from the input file."
   ]
  },
  {
   "cell_type": "code",
   "execution_count": 15,
   "metadata": {},
   "outputs": [],
   "source": [
    "def read_nodes(gfile):\n",
    "    \"\"\"Reads in the nodes of the graph from the input file.\n",
    "    \n",
    "    Args:\n",
    "        gfile: A handle for the file containing the graph data, starting at the top.\n",
    "        \n",
    "    Returns:\n",
    "        A generator of the nodes in the graph, yielding a list of the form:\n",
    "            ['CH', 'AG, 'ME', ...]\n",
    "    \"\"\"\n",
    "    # read lines from gfile, and construct a for loop to find nodes\n",
    "    for line in gfile:\n",
    "        # process each line, to a list of words\n",
    "        the_line = line.strip().split(' ')\n",
    "        # judge whether it is a line that shows the nodes, and then yield nodes\n",
    "        if len(the_line[0]) == 2:\n",
    "            yield the_line[0]\n",
    "        # return if it is the ending of the nodes part\n",
    "        elif the_line == ['']:\n",
    "            break"
   ]
  },
  {
   "cell_type": "code",
   "execution_count": 16,
   "metadata": {},
   "outputs": [],
   "source": [
    "def read_edges(gfile):\n",
    "    \"\"\"Reads in the edges of the graph from the input file.\n",
    "    \n",
    "    Args:\n",
    "        gfile: A handle for the file containing the graph data, starting at the top \n",
    "            of the edges section.\n",
    "            \n",
    "    Returns:\n",
    "        A generator of the edges in the graph, yielding a list of pairs of the form:\n",
    "            [('CH', 'AG'), ('AG', 'ME'), ...]\n",
    "    \"\"\"\n",
    "    # read lines from gfile, and construct a for loop to find nodes\n",
    "    for line in gfile:\n",
    "        # process each line, to a string\n",
    "        the_line = line.strip()\n",
    "        # to ensure each line is not comment\n",
    "        if the_line[0] != '*':\n",
    "            # remove the part before \":\", and split them by \";\"\n",
    "            colon_index = the_line.find(':')\n",
    "            new_line = the_line[colon_index + 1:]\n",
    "            connect_list = new_line.split(\";\")\n",
    "            # process each connected component\n",
    "            for component in connect_list:\n",
    "                nodes_list = component.split(\",\")\n",
    "                # if there is only one node, then there is no edge\n",
    "                if len(nodes_list) > 1:\n",
    "                    # yield the fully connected edges of this component\n",
    "                    for temp_i in range(len(nodes_list)):\n",
    "                        for temp_j in range(temp_i + 1, len(nodes_list)):\n",
    "                            yield (nodes_list[temp_i], nodes_list[temp_j])"
   ]
  },
  {
   "cell_type": "markdown",
   "metadata": {},
   "source": [
    "The following code should now correctly create the graph."
   ]
  },
  {
   "cell_type": "code",
   "execution_count": 17,
   "metadata": {},
   "outputs": [],
   "source": [
    "import networkx as nx\n",
    "G = nx.Graph()\n",
    "G.add_nodes_from(read_nodes(homer))\n",
    "G.add_edges_from(read_edges(homer))"
   ]
  },
  {
   "cell_type": "markdown",
   "metadata": {},
   "source": [
    "Next implement procedure Search. The function takes in a graph and a root node, and returns a list of the nodes visited during the search. The nodes should appear in the order in which they were *first visited*. The neighbors of a node should be processed in *alphabetical order*, where numbers come before letters. This will ensure that the output of your function is uniquely defined, given any input node."
   ]
  },
  {
   "cell_type": "code",
   "execution_count": 18,
   "metadata": {},
   "outputs": [],
   "source": [
    "def Search(graph, root):\n",
    "    \"\"\"Runs Search from vertex root in a graph. Neighboring nodes are processed in alphabetical order.\n",
    "    \n",
    "    Args:\n",
    "        graph: the given graph, with nodes encoded as strings.\n",
    "        root: the node from which to start the search.\n",
    "        \n",
    "    Returns:\n",
    "        A list of nodes in the order in which they were first visited.\n",
    "    \"\"\"\n",
    "    # use a list to store the explored path\n",
    "    explored = list()\n",
    "    stack = [root]\n",
    "    \n",
    "    while stack:\n",
    "        next_node = stack.pop()\n",
    "        # only explored nodes that haven't been explored\n",
    "        if next_node not in explored:\n",
    "            explored.append(next_node)\n",
    "            # find the neighbours of next_node, order in reverse order of alphabetical order\n",
    "            # so that the explore oder is in alphabetical order\n",
    "            neighbour = list(graph.neighbors(next_node))\n",
    "            neighbour.sort(reverse=True)\n",
    "            stack.extend(neighbour)\n",
    "    return explored"
   ]
  },
  {
   "cell_type": "markdown",
   "metadata": {},
   "source": [
    "We will check the correctness of your code by verifying that it correctly computes the DFS tree starting at Ulysses (node `OD`)."
   ]
  },
  {
   "cell_type": "code",
   "execution_count": 19,
   "metadata": {},
   "outputs": [],
   "source": [
    "ulysses = Search(G, 'OD')"
   ]
  },
  {
   "cell_type": "markdown",
   "metadata": {},
   "source": [
    "Next implement DFS to find the connected components of the character graph. When choosing roots for your components, always pick the *smallest unvisited node* according to alphabetical ordering. Combined with your Search routine, this will ensure that the output is again uniquely defined."
   ]
  },
  {
   "cell_type": "code",
   "execution_count": 20,
   "metadata": {},
   "outputs": [],
   "source": [
    "def connected_components(graph):\n",
    "    \"\"\"Computes the connected components of the given graph.\n",
    "    \n",
    "    Args: \n",
    "        graph: the given graph, with nodes encoded as strings.\n",
    "        \n",
    "    Returns:\n",
    "        The connected components of the graph. Components are listed in\n",
    "        alphabetical order of their root nodes.\n",
    "    \"\"\"\n",
    "    # list all nodes in alphabetical order\n",
    "    all_nodes = list(graph.nodes())\n",
    "    all_nodes.sort()\n",
    "    # store all the explored nodes\n",
    "    explored = list()\n",
    "    # store all the components in a list\n",
    "    components = list()\n",
    "    for node in all_nodes:\n",
    "        # judge whether we have explored all the nodes\n",
    "        if len(all_nodes) != len(explored):\n",
    "            if node not in explored:\n",
    "                new_explored = Search(graph, node)\n",
    "                explored.extend(new_explored)\n",
    "                components.append(new_explored)\n",
    "    return components"
   ]
  },
  {
   "cell_type": "markdown",
   "metadata": {},
   "source": [
    "We will check correctness of your code by verifying that your output list is identical to our solution."
   ]
  },
  {
   "cell_type": "code",
   "execution_count": 21,
   "metadata": {},
   "outputs": [],
   "source": [
    "character_interactions = connected_components(G)"
   ]
  },
  {
   "cell_type": "markdown",
   "metadata": {},
   "source": [
    "As a preliminary check, you should find that the following statements are all true."
   ]
  },
  {
   "cell_type": "code",
   "execution_count": 22,
   "metadata": {},
   "outputs": [
    {
     "name": "stdout",
     "output_type": "stream",
     "text": [
      "There are 12 connected components in the Iliad: True\n",
      "The giant component has size 542: True\n",
      "There are 5 isolated characters: True\n"
     ]
    }
   ],
   "source": [
    "component_sizes = [len(c) for c in character_interactions]\n",
    "print \"There are 12 connected components in the Iliad:\", len(component_sizes) == 12\n",
    "print \"The giant component has size 542:\", max(component_sizes) == 542\n",
    "print \"There are 5 isolated characters:\", len([c for c in component_sizes if c == 1]) == 5"
   ]
  }
 ],
 "metadata": {
  "kernelspec": {
   "display_name": "Python 2",
   "language": "python",
   "name": "python2"
  },
  "language_info": {
   "codemirror_mode": {
    "name": "ipython",
    "version": 2
   },
   "file_extension": ".py",
   "mimetype": "text/x-python",
   "name": "python",
   "nbconvert_exporter": "python",
   "pygments_lexer": "ipython2",
   "version": "2.7.15"
  }
 },
 "nbformat": 4,
 "nbformat_minor": 1
}
